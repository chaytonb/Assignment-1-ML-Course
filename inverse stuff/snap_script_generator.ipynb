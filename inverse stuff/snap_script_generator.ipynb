{
 "cells": [
  {
   "cell_type": "code",
   "execution_count": 21,
   "metadata": {},
   "outputs": [],
   "source": [
    "import pandas as pd\n",
    "import numpy as np\n",
    "import random\n",
    "import time"
   ]
  },
  {
   "cell_type": "code",
   "execution_count": 22,
   "metadata": {},
   "outputs": [],
   "source": [
    "recepter_locations = pd.read_csv('europe-capital-cities.csv')\n",
    "recepter_locations = recepter_locations[~recepter_locations['capital'].isin(['Moscow', 'Minsk'])]"
   ]
  },
  {
   "cell_type": "code",
   "execution_count": 23,
   "metadata": {},
   "outputs": [],
   "source": [
    "num_training_releases = 500"
   ]
  },
  {
   "cell_type": "code",
   "execution_count": null,
   "metadata": {},
   "outputs": [
    {
     "name": "stdout",
     "output_type": "stream",
     "text": [
      "12/05/2024 04:43 AM\n"
     ]
    },
    {
     "ename": "NameError",
     "evalue": "name 'start_time' is not defined",
     "output_type": "error",
     "traceback": [
      "\u001b[1;31m---------------------------------------------------------------------------\u001b[0m",
      "\u001b[1;31mNameError\u001b[0m                                 Traceback (most recent call last)",
      "Cell \u001b[1;32mIn[134], line 19\u001b[0m\n\u001b[0;32m     17\u001b[0m source_lat \u001b[38;5;241m=\u001b[39m np\u001b[38;5;241m.\u001b[39mrandom\u001b[38;5;241m.\u001b[39muniform(\u001b[38;5;241m65.0\u001b[39m, \u001b[38;5;241m32.0\u001b[39m)\n\u001b[0;32m     18\u001b[0m source_lon \u001b[38;5;241m=\u001b[39m np\u001b[38;5;241m.\u001b[39mrandom\u001b[38;5;241m.\u001b[39muniform(\u001b[38;5;241m-\u001b[39m\u001b[38;5;241m25.0\u001b[39m, \u001b[38;5;241m55.0\u001b[39m)\n\u001b[1;32m---> 19\u001b[0m \u001b[43mstart_time\u001b[49m\n",
      "\u001b[1;31mNameError\u001b[0m: name 'start_time' is not defined"
     ]
    }
   ],
   "source": [
    "def str_time_prop(start, end, time_format, prop):\n",
    "\n",
    "    stime = time.mktime(time.strptime(start, time_format))\n",
    "    etime = time.mktime(time.strptime(end, time_format))\n",
    "\n",
    "    ptime = stime + prop * (etime - stime)\n",
    "\n",
    "    return time.strftime(time_format, time.localtime(ptime))\n",
    "\n",
    "\n",
    "def random_date(start, end, prop):\n",
    "    return str_time_prop(start, end, '%d/%m/%Y %I:%M %p', prop)\n",
    "    \n",
    "print(random_date(\"1/1/2024 12:00 AM\", \"10/12/2024 12:00 AM\", random.random()))\n",
    "\n",
    "for i in range(num_training_releases):\n",
    "    source_lat = np.random.uniform(65.0, 32.0)\n",
    "    source_lon = np.random.uniform(-25.0, 55.0)\n",
    "    start_date = random_date(\"1/1/2024 12:00 AM\", \"10/12/2024 12:00 AM\", random.random())\n",
    "\n"
   ]
  },
  {
   "cell_type": "code",
   "execution_count": null,
   "metadata": {},
   "outputs": [],
   "source": [
    "# Constant Terms\n",
    "\n",
    "\n",
    "# Variable Terms\n"
   ]
  },
  {
   "cell_type": "code",
   "execution_count": 19,
   "metadata": {},
   "outputs": [
    {
     "name": "stdout",
     "output_type": "stream",
     "text": [
      "\n",
      "TITLE=Chernobyl_Forward 2024-09-16 10:00:00\n",
      "* SIMULATION.START.DATE=2024-10-10_08:13:14\n",
      "SET_RELEASE.POS= P=   51.38975,   30.10507\n",
      "TIME.START= 2024 09 04 06\n",
      "TIME.RUN = 1000h\n",
      "STEP.HOUR.OUTPUT.FIELDS = 1\n",
      "\n",
      "MAX.PARTICLES.PER.RELEASE= 10000\n",
      "TIME.RELEASE.PROFILE.STEPS\n",
      "RELEASE.HOUR = 0, 12\n",
      "RELEASE.RADIUS.M= 50, 50\n",
      "RELEASE.LOWER.M= 15, 15\n",
      "RELEASE.UPPER.M= 2000, 2000\n",
      "\n",
      "RELEASE.BQ/SEC.COMP= 2.6e+11, 0, 'Cs137'\n",
      "***List of components\n",
      "COMPONENT= Cs137\n",
      "RADIOACTIVE.DECAY.ON\n",
      "HALF.LIFETIME.DAYS= 1.10048516E+04\n",
      "DRY.DEP.ON\n",
      "WET.DEP.ON\n",
      "RADIUS.MICROMETER=0.55\n",
      "DENSITY.G/CM3=2.3\n",
      "GRAVITY.FIXED.M/S=0.0002\n",
      "DPUI.Sv_per_Bq_M3 = 4.8e-09\n",
      "FIELD.IDENTIFICATION= 01\n",
      "\n",
      "\n",
      "FIELD.INPUT=/lustre/storeB/project/fou/kl/cerad/Meteorology/EC/ChernobylForestFire2024/NRPA_EUROPE_0_1_00/meteo20240904_00.nc\n",
      "FIELD.INPUT=/lustre/storeB/project/fou/kl/cerad/Meteorology/EC/ChernobylForestFire2024/NRPA_EUROPE_0_1_00/meteo20240905_00.nc\n",
      "FIELD.INPUT=/lustre/storeB/project/fou/kl/cerad/Meteorology/EC/ChernobylForestFire2024/NRPA_EUROPE_0_1_00/meteo20240906_00.nc\n",
      "FIELD.INPUT=/lustre/storeB/project/fou/kl/cerad/Meteorology/EC/ChernobylForestFire2024/NRPA_EUROPE_0_1_00/meteo20240907_00.nc\n",
      "FIELD.INPUT=/lustre/storeB/project/fou/kl/cerad/Meteorology/EC/ChernobylForestFire2024/NRPA_EUROPE_0_1_00/meteo20240908_00.nc\n",
      "FIELD.INPUT=/lustre/storeB/project/fou/kl/cerad/Meteorology/EC/ChernobylForestFire2024/NRPA_EUROPE_0_1_00/meteo20240909_00.nc\n",
      "FIELD.INPUT=/lustre/storeB/project/fou/kl/cerad/Meteorology/EC/ChernobylForestFire2024/NRPA_EUROPE_0_1_00/meteo20240910_00.nc\n",
      "FIELD.INPUT=/lustre/storeB/project/fou/kl/cerad/Meteorology/EC/ChernobylForestFire2024/NRPA_EUROPE_0_1_00/meteo20240911_00.nc\n",
      "FIELD.INPUT=/lustre/storeB/project/fou/kl/cerad/Meteorology/EC/ChernobylForestFire2024/NRPA_EUROPE_0_1_00/meteo20240912_00.nc\n",
      "FIELD.INPUT=/lustre/storeB/project/fou/kl/cerad/Meteorology/EC/ChernobylForestFire2024/NRPA_EUROPE_0_1_00/meteo20240913_00.nc\n",
      "FIELD.INPUT=/lustre/storeB/project/fou/kl/cerad/Meteorology/EC/ChernobylForestFire2024/NRPA_EUROPE_0_1_00/meteo20240914_00.nc\n",
      "FIELD.INPUT=/lustre/storeB/project/fou/kl/cerad/Meteorology/EC/ChernobylForestFire2024/NRPA_EUROPE_0_1_00/meteo20240915_00.nc\n",
      "FIELD.INPUT=/lustre/storeB/project/fou/kl/cerad/Meteorology/EC/ChernobylForestFire2024/NRPA_EUROPE_0_1_00/meteo20240916_00.nc\n",
      "FIELD.INPUT=/lustre/storeB/project/fou/kl/cerad/Meteorology/EC/ChernobylForestFire2024/NRPA_EUROPE_0_1_00/meteo20240917_00.nc\n",
      "FIELD.INPUT=/lustre/storeB/project/fou/kl/cerad/Meteorology/EC/ChernobylForestFire2024/NRPA_EUROPE_0_1_00/meteo20240918_00.nc\n",
      "FIELD.INPUT=/lustre/storeB/project/fou/kl/cerad/Meteorology/EC/ChernobylForestFire2024/NRPA_EUROPE_0_1_00/meteo20240919_00.nc\n",
      "FIELD.INPUT=/lustre/storeB/project/fou/kl/cerad/Meteorology/EC/ChernobylForestFire2024/NRPA_EUROPE_0_1_00/meteo20240920_00.nc\n",
      "FIELD.INPUT=/lustre/storeB/project/fou/kl/cerad/Meteorology/EC/ChernobylForestFire2024/NRPA_EUROPE_0_1_00/meteo20240921_00.nc\n",
      "FIELD.INPUT=/lustre/storeB/project/fou/kl/cerad/Meteorology/EC/ChernobylForestFire2024/NRPA_EUROPE_0_1_00/meteo20240922_00.nc\n",
      "FIELD.INPUT=/lustre/storeB/project/fou/kl/cerad/Meteorology/EC/ChernobylForestFire2024/NRPA_EUROPE_0_1_00/meteo20240923_00.nc\n",
      "FIELD.INPUT=/lustre/storeB/project/fou/kl/cerad/Meteorology/EC/ChernobylForestFire2024/NRPA_EUROPE_0_1_00/meteo20240924_00.nc\n",
      "FIELD.INPUT=/lustre/storeB/project/fou/kl/cerad/Meteorology/EC/ChernobylForestFire2024/NRPA_EUROPE_0_1_00/meteo20240925_00.nc\n",
      "FIELD.INPUT=/lustre/storeB/project/fou/kl/cerad/Meteorology/EC/ChernobylForestFire2024/NRPA_EUROPE_0_1_00/meteo20240926_00.nc\n",
      "\n",
      "\n",
      "***********************************************************************\n",
      "*** MET Norway SNAP input file derived from snap.input_nrpa_ec_0p1.tmpl\n",
      "***********************************************************************\n",
      "\n",
      "RANDOM.WALK.ON\n",
      "\n",
      "BOUNDARY.LAYER.FULL.MIX.OFF\n",
      "\n",
      "DRY.DEPOSITION.NEW\n",
      "\n",
      "WET.DEPOSITION.VERSION = 2\n",
      "\n",
      "*** particles distributed on components according to mass\n",
      "MAX.TOTALPARTICLES= 20000000\n",
      "\n",
      "\n",
      "REMOVE.RELATIVE.MASS.LIMIT= 0.\n",
      "\n",
      "TIME.STEP= 300.\n",
      "STEP.HOUR.INPUT.MIN=  3\n",
      "STEP.HOUR.INPUT.MAX= 6\n",
      "ASYNOPTIC.OUTPUT\n",
      "*SYNOPTIC.OUTPUT\n",
      "\n",
      "TOTAL.COMPONENTS.OFF\n",
      "* TOTAL.COMPONENTS.ON\n",
      "MSLP.OFF\n",
      "PRECIPITATION.ON\n",
      "MODEL.LEVEL.FIELDS.OFF\n",
      "* MODEL.LEVEL.FIELDS.ON\n",
      "\n",
      "POSITIONS.DECIMAL\n",
      "\n",
      "FIELD.TYPE=fimex\n",
      "FIMEX.FILE_TYPE= netcdf\n",
      "FIMEX.CONFIG=\n",
      "\n",
      "\n",
      "** ECRead output\n",
      "GRID.NCTYPE = ecemep\n",
      "DATA.ETA.LEVELS\n",
      "GRID.AUTODETECT.FROM_INPUT\n",
      "\n",
      "** INPUT FIELD FILES\n",
      "\n",
      "\n",
      "** IDENTIFY OUTPUT FIELDS WITH FORECAST LENGTH OR VALID TIME\n",
      "\n",
      "FIELD_TIME.FORECAST\n",
      "* FIELD_TIME.VALID\n",
      "\n",
      "** OUTPUT FILES\n",
      "\n",
      "FIELD.OUTTYPE=netcdf\n",
      "FIELD.OUTPUT= /lustre/storeB/users/chbou7748/chernobyl2024/inverse_runs/output_files_forward/chernobyl20240904-12hr.nc\n",
      "LOG.FILE= /lustre/storeB/users/chbou7748/chernobyl2024/inverse_runs/output_files_forward/chernobyl20240904-12hr.log\n",
      "\n",
      "* DEBUG.OFF\n",
      "DEBUG.ON\n",
      "\n",
      "OUTPUT.COLUMN.ON\n",
      "* OUTPUT.AIRCRAFT_DOSERATE.ENABLE\n",
      "* Tiltaksgrense Avsperring\n",
      "* Se Sivilforsvaret Bestemmelser om sikkerhet under opplæring, øving og\n",
      "* innsats i Sivilforsvaret\n",
      "* Grense i Sv/h\n",
      "OUTPUT.AIRCRAFT_DOSERATE.THRESHOLD.SV_H = 60e-6\n"
     ]
    }
   ],
   "source": [
    "with open('snap_input_example.txt', 'r') as file:\n",
    "    # Iterate over each line in the file\n",
    "    for line in file:\n",
    "        # Process each line (e.g., print it)\n",
    "        print(line.strip())  # .strip() removes leading/trailing whitespace and newline characte"
   ]
  }
 ],
 "metadata": {
  "kernelspec": {
   "display_name": "mlcourse",
   "language": "python",
   "name": "python3"
  },
  "language_info": {
   "codemirror_mode": {
    "name": "ipython",
    "version": 3
   },
   "file_extension": ".py",
   "mimetype": "text/x-python",
   "name": "python",
   "nbconvert_exporter": "python",
   "pygments_lexer": "ipython3",
   "version": "3.12.8"
  }
 },
 "nbformat": 4,
 "nbformat_minor": 2
}
