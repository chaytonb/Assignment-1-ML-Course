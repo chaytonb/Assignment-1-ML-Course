{
 "cells": [
  {
   "cell_type": "code",
   "execution_count": 1,
   "metadata": {},
   "outputs": [
    {
     "data": {
      "text/plain": [
       "<torch._C.Generator at 0x232125c8bf0>"
      ]
     },
     "execution_count": 1,
     "metadata": {},
     "output_type": "execute_result"
    }
   ],
   "source": [
    "import numpy as np\n",
    "import scipy\n",
    "import matplotlib.pyplot as plt\n",
    "import torch\n",
    "import torch.nn as nn\n",
    "import torch.optim as optim\n",
    "\n",
    "torch.manual_seed(42)"
   ]
  },
  {
   "cell_type": "code",
   "execution_count": null,
   "metadata": {},
   "outputs": [
    {
     "name": "stdout",
     "output_type": "stream",
     "text": [
      "CFL Number: 0.5681\n",
      "Epoch 0, Loss: 0.05247047543525696, PDE Loss: 0.0016164688859134912, IC Loss: 0.031578339636325836, Boundary Loss: 0.01604272611439228\n",
      "Epoch 1000, Loss: 0.002684130100533366, PDE Loss: 0.0005212590331211686, IC Loss: 0.00021805253345519304, Boundary Loss: 0.0009023005259223282\n",
      "Epoch 2000, Loss: 0.0005985645111650229, PDE Loss: 0.00014965330774430186, IC Loss: 3.6817094951402396e-05, Boundary Loss: 0.0001127875002566725\n",
      "Epoch 3000, Loss: 0.0002739009214565158, PDE Loss: 4.952665767632425e-05, IC Loss: 3.8634367228951305e-05, Boundary Loss: 8.668658119859174e-05\n",
      "Epoch 4000, Loss: 0.0001837871241150424, PDE Loss: 3.0280451028374955e-05, IC Loss: 1.1518171959323809e-05, Boundary Loss: 8.142759907059371e-05\n",
      "Epoch 5000, Loss: 0.00019697091192938387, PDE Loss: 2.959225639642682e-05, IC Loss: 2.8324173399596475e-05, Boundary Loss: 7.986996206454933e-05\n",
      "Epoch 6000, Loss: 0.00014988261682447046, PDE Loss: 1.559637166792527e-05, IC Loss: 1.0396113793831319e-05, Boundary Loss: 9.269738802686334e-05\n",
      "Epoch 7000, Loss: 0.00018486911721993238, PDE Loss: 5.0805669161491096e-05, IC Loss: 1.9019480532733724e-05, Boundary Loss: 1.3432622836262453e-05\n",
      "Epoch 8000, Loss: 0.0006870499346405268, PDE Loss: 3.400659988983534e-05, IC Loss: 0.00011967256432399154, Boundary Loss: 0.0004653575597330928\n",
      "Epoch 9000, Loss: 9.431522630620748e-05, PDE Loss: 2.312988954145112e-06, IC Loss: 4.8452926421305165e-05, Boundary Loss: 3.892332824761979e-05\n"
     ]
    }
   ],
   "source": [
    "# Parameters\n",
    "nx = 300  # Number of spatial grid points\n",
    "L = 5.0  # Length of the domain\n",
    "dt = 0.01  # Time step\n",
    "a = 0.8  # Advection speed\n",
    "T = 5.0  # Total simulation time\n",
    "nt = int(T / dt)  # Number of time steps\n",
    "dx = L / (nx - 1)  # Spatial resolution\n",
    "\n",
    "# Grid points\n",
    "x = np.linspace(0, L, nx)\n",
    "t = np.linspace(0, T, int(T/dt))\n",
    "\n",
    "CFL = a * dt / dx\n",
    "print(f\"CFL Number: {CFL}\")\n",
    "\n",
    "# Initial condition: Gaussian pulse\n",
    "def initial_condition(x):\n",
    "    return np.exp(-((x - L / 4) / 0.1) ** 2)\n",
    "\n",
    "# Define the neural network\n",
    "class NeuralNetwork(nn.Module):\n",
    "    def __init__(self):\n",
    "        super(NeuralNetwork, self).__init__()\n",
    "        self.fc1 = nn.Linear(2, 64)  # Input: (x, t)\n",
    "        self.fc2 = nn.Linear(64, 64)\n",
    "        self.fc3 = nn.Linear(64, 64)\n",
    "        self.fc4 = nn.Linear(64, 64)\n",
    "        self.fc5 = nn.Linear(64, 64)\n",
    "        self.fc6 = nn.Linear(64, 1)  # Output: u(x, t)\n",
    "\n",
    "    def forward(self, x, t):\n",
    "        inputs = torch.cat([x, t], dim=1)  # Concatenate x and t\n",
    "        out = torch.sin(self.fc1(inputs))\n",
    "        out = torch.sin(self.fc2(out))\n",
    "        out = torch.sin(self.fc3(out))\n",
    "        out = torch.sin(self.fc4(out))\n",
    "        out = torch.sin(self.fc5(out))\n",
    "        out = self.fc6(out)\n",
    "        return out\n",
    "\n",
    "# Initialize network and optimizer\n",
    "model = NeuralNetwork()\n",
    "optimizer = optim.Adam(model.parameters(), lr=0.001)\n",
    "\n",
    "# Define loss functions\n",
    "def pde_loss(x, t, a):\n",
    "    x.requires_grad_(True)\n",
    "    t.requires_grad_(True)\n",
    "    u = model(x, t)\n",
    "    u_t = torch.autograd.grad(u, t, grad_outputs=torch.ones_like(u), create_graph=True)[0]\n",
    "    u_x = torch.autograd.grad(u, x, grad_outputs=torch.ones_like(u), create_graph=True)[0]\n",
    "    return torch.mean((u_t + a * u_x) ** 2)\n",
    "\n",
    "def ic_loss(x):\n",
    "    # Detach x and convert to NumPy for initial_condition\n",
    "    x_np = x.detach().numpy()\n",
    "    u_true = torch.tensor(initial_condition(x_np), dtype=torch.float32).reshape(-1, 1)\n",
    "    u_pred = model(x, torch.zeros_like(x))  # Evaluate at t = 0\n",
    "    return torch.mean((u_pred - u_true) ** 2)\n",
    "\n",
    "def boundary_loss(t):\n",
    "    # Sample points at the boundaries (x = 0 and x = L)\n",
    "    x_left = torch.zeros_like(t)  # x = 0\n",
    "    x_right = torch.full_like(t, L)  # x = L\n",
    "\n",
    "    # Evaluate the model at the boundaries\n",
    "    u_left = model(x_left, t)\n",
    "    u_right = model(x_right, t)\n",
    "\n",
    "    # Compute the mean squared error of the difference\n",
    "    return torch.mean((u_left - u_right) ** 2)\n",
    "\n",
    "# Training loop\n",
    "for epoch in range(10000):\n",
    "    optimizer.zero_grad()\n",
    "\n",
    "    # Sample random collocation points\n",
    "    num_samples = 100\n",
    "    x_torch = torch.tensor(np.random.choice(x, num_samples, replace=True), dtype=torch.float32).reshape(-1, 1)\n",
    "    t_torch = torch.tensor(np.random.choice(t, num_samples, replace=True), dtype=torch.float32).reshape(-1, 1)\n",
    "\n",
    "    # Compute losses\n",
    "    loss_pde = pde_loss(x_torch, t_torch, a)\n",
    "    loss_ic = ic_loss(x_torch)\n",
    "    loss_boundary = boundary_loss(t_torch)  # Add boundary loss\n",
    "    loss = 3*loss_pde + loss_ic + loss_boundary  # Include boundary loss in total loss\n",
    "\n",
    "    # Backpropagation\n",
    "    loss.backward()\n",
    "    optimizer.step()\n",
    "\n",
    "    if epoch % 1000 == 0:\n",
    "        print(f\"Epoch {epoch}, Loss: {loss.item()}, PDE Loss: {loss_pde.item()}, IC Loss: {loss_ic.item()}, Boundary Loss: {loss_boundary.item()}\")"
   ]
  },
  {
   "cell_type": "code",
   "execution_count": null,
   "metadata": {},
   "outputs": [
    {
     "name": "stdout",
     "output_type": "stream",
     "text": [
      "Upwind MSE: 0.033891409082943344\n",
      "Upwind Norm: 3.188639635468863\n",
      "LW MSE: 0.048755906613793774\n",
      "LW Norm: 3.824496304631256\n",
      "NN MSE: 6.048785610693942e-05\n",
      "NN Norm: 0.13470841411018775\n"
     ]
    },
    {
     "data": {
      "image/png": "[encoded data removed]",
      "text/plain": [
       "<Figure size 800x600 with 1 Axes>"
      ]
     },
     "metadata": {},
     "output_type": "display_data"
    }
   ],
   "source": [
    "# Plot the results\n",
    "plt.figure(figsize=(8, 6))\n",
    "\n",
    "# Time Step\n",
    "time = 1.0\n",
    "\n",
    "##############################################\n",
    "# NN Solution\n",
    "x_test = torch.tensor(x, dtype=torch.float32).reshape(-1, 1)\n",
    "\n",
    "# Plot NN\n",
    "t_test = torch.full_like(x_test,time) # Creates a vector with the same shape as x_test with a constant value equal to n\n",
    "with torch.no_grad(): \n",
    "    u_nn = model(x_test, t_test).detach().numpy().flatten()  # Detach tensor before converting to NumPy\n",
    "plt.plot(x, u_nn, label=\"Neural Network\")\n",
    "\n",
    "################################################\n",
    "# Analytical Solution\n",
    "\n",
    "x_shifted = (x - a * time) % L  # Apply periodic boundary condition\n",
    "u_analytical = np.exp(-((x_shifted - L/4) / 0.1) ** 2)\n",
    "plt.plot(x, u_analytical, label=\"Analytical\")\n",
    "\n",
    "##############################################\n",
    "# Upwind Scheme\n",
    "# Initial condition: Gaussian pulse\n",
    "u = np.exp(-((x - L/4) / 0.1) ** 2)\n",
    "\n",
    "u_new = np.zeros_like(u)\n",
    "\n",
    "for n in range(nt):\n",
    "    # Apply Upwind update (first-order)\n",
    "    u_new[1:] = u[1:] - CFL * (u[1:] - u[:-1])  # Forward in time, backward in space\n",
    "\n",
    "    # Periodic boundary condition: Update the first point using the last point\n",
    "    u_new[0] = u[0] - CFL * (u[0] - u[-1])\n",
    "\n",
    "    # Update the field\n",
    "    u[:] = u_new[:]\n",
    "\n",
    "    # Plot at specific step and store\n",
    "    if n == time*100:\n",
    "        u_upwind = u\n",
    "        plt.plot(x, u, label=\"Upwind Scheme\")\n",
    "################################################\n",
    "# Lax-Wendroff\n",
    "# Initial condition: Gaussian pulse\n",
    "def initial_condition(x):\n",
    "    return np.exp(-((x - L / 4) / 0.1) ** 2)\n",
    "\n",
    "u = initial_condition(x)  # Initialize solution\n",
    "\n",
    "# Lax-Wendroff Scheme\n",
    "for n in range(nt):\n",
    "    \n",
    "    # Update solution\n",
    "    u[1:-1] = a/2.0*(1+a)*u[:-2] + (1-a**2)*u[1:-1] - a/2.0*(1-a)*u[2:]\n",
    "    \n",
    "    # Periodic boundary conditions\n",
    "    u[0] = u[-2]  # Update left boundary\n",
    "    u[-1] = u[1]  # Update right boundary\n",
    "\n",
    "    # Plot at specific step and record value\n",
    "    if n == time*100:\n",
    "        u_lw = u\n",
    "        plt.plot(x, u, label=f\"Lax-Wendroff Scheme\")\n",
    "#################################################\n",
    "\n",
    "# Calculate errors (MSE)\n",
    "upwind_diffs = u_analytical - u_upwind\n",
    "upwind_mse = np.mean(np.square(upwind_diffs))\n",
    "upwind_norm = np.linalg.norm(upwind_diffs)\n",
    "print(\"Upwind MSE: \" + str(upwind_mse))\n",
    "print(\"Upwind Norm: \" + str(upwind_norm))\n",
    "\n",
    "lw_diffs = u_analytical - u_lw\n",
    "lw_mse = np.mean(np.square(lw_diffs))\n",
    "lw_norm = np.linalg.norm(lw_diffs)\n",
    "print(\"LW MSE: \" + str(lw_mse))\n",
    "print(\"LW Norm: \" + str(lw_norm))\n",
    "\n",
    "nn_diffs = u_analytical - u_nn\n",
    "nn_mse = np.mean(np.square(nn_diffs))\n",
    "nn_norm = np.linalg.norm(nn_diffs)\n",
    "print(\"NN MSE: \" + str(nn_mse))\n",
    "print(\"NN Norm: \" + str(nn_norm))\n",
    "\n",
    "# Set up plot\n",
    "plt.legend()\n",
    "plt.xlabel(\"x\")\n",
    "plt.ylabel(\"u\")\n",
    "plt.grid()\n",
    "plt.title(f\"T={time}\")\n",
    "plt.savefig(f'plots/comparison_{time}.png')\n",
    "plt.show()"
   ]
  },
  {
   "cell_type": "code",
   "execution_count": 4,
   "metadata": {},
   "outputs": [
    {
     "data": {
      "text/plain": [
       "(300,)"
      ]
     },
     "execution_count": 4,
     "metadata": {},
     "output_type": "execute_result"
    }
   ],
   "source": [
    "lw_diffs.shape"
   ]
  },
  {
   "cell_type": "code",
   "execution_count": 5,
   "metadata": {},
   "outputs": [
    {
     "data": {
      "text/plain": [
       "(300,)"
      ]
     },
     "execution_count": 5,
     "metadata": {},
     "output_type": "execute_result"
    }
   ],
   "source": [
    "u_nn.shape"
   ]
  }
 ],
 "metadata": {
  "kernelspec": {
   "display_name": "mlcourse",
   "language": "python",
   "name": "python3"
  },
  "language_info": {
   "codemirror_mode": {
    "name": "ipython",
    "version": 3
   },
   "file_extension": ".py",
   "mimetype": "text/x-python",
   "name": "python",
   "nbconvert_exporter": "python",
   "pygments_lexer": "ipython3",
   "version": "3.12.8"
  }
 },
 "nbformat": 4,
 "nbformat_minor": 2
}
